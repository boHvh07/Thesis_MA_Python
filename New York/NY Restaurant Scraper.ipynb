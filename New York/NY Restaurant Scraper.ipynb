{
 "cells": [
  {
   "cell_type": "code",
   "execution_count": 2,
   "id": "4bda1f11",
   "metadata": {},
   "outputs": [],
   "source": [
    "import time\n",
    "import requests\n",
    "from bs4 import BeautifulSoup\n",
    "from time import sleep\n",
    "import numpy as np\n",
    "import pandas as pd \n",
    "\n",
    "full_url_array = []\n",
    "yelp_url = 'https://yelp.com'\n",
    "\n",
    "seeds = []\n",
    "counter = 0\n",
    "\n",
    "base_url = \"https://www.yelp.com/search?find_desc=Restaurants&find_loc=New+York%2C+NY&sortby=review_count\" #Change link per city\n",
    "i = 0\n",
    "url = base_url\n",
    "\n",
    "while True:\n",
    "\n",
    "    path_name_array = []\n",
    "    \n",
    "    user_agent = {'User-agent': 'Mozilla/5.0'}\n",
    "    try:\n",
    "        res = requests.get(url, headers = user_agent)\n",
    "    except: \n",
    "         break\n",
    "    soup = BeautifulSoup(res.text, \"html.parser\")\n",
    "\n",
    "    links = soup.find_all(class_='css-1m051bw')\n",
    "    for link in links:\n",
    "        soup.find('a', href=True)\n",
    "        if link['href'][0:4] == '/biz':\n",
    "            path_name_array.append(link['href'])\n",
    "\n",
    "    for url in path_name_array:\n",
    "        full_url_array.append(yelp_url + url)\n",
    "\n",
    "    sleep(2)     \n",
    "\n",
    "    counter += 1\n",
    "    url = base_url + '&start=' + str(counter*10)\n",
    "        \n",
    "pd.DataFrame(full_url_array).to_csv('newyork.csv', index=False, header=False)    #Change csv per city"
   ]
  }
 ],
 "metadata": {
  "kernelspec": {
   "display_name": "Python 3 (ipykernel)",
   "language": "python",
   "name": "python3"
  },
  "language_info": {
   "codemirror_mode": {
    "name": "ipython",
    "version": 3
   },
   "file_extension": ".py",
   "mimetype": "text/x-python",
   "name": "python",
   "nbconvert_exporter": "python",
   "pygments_lexer": "ipython3",
   "version": "3.9.12"
  }
 },
 "nbformat": 4,
 "nbformat_minor": 5
}
