{
 "cells": [
  {
   "cell_type": "code",
   "execution_count": null,
   "id": "ea887fa5",
   "metadata": {},
   "outputs": [],
   "source": [
    "import pandas as pd\n",
    "import numpy as np\n",
    "df1 = pd.read_csv('boston1.csv')\n",
    "df2 = pd.read_csv('boston2.csv')\n",
    "df2_5 = pd.read_csv('boston2_5.csv')\n",
    "df3 = pd.read_csv('boston3.csv')\n",
    "df4 = pd.read_csv('boston4.csv')\n",
    "df4_5 = pd.read_csv('boston4_5.csv')\n",
    "df5 = pd.read_csv('boston5.csv')\n",
    "df6 = pd.read_csv('boston6.csv')\n",
    "df = pd.concat([df1, df2, df2_5, df3, df4, df4_5, df5, df6], axis = 0)"
   ]
  },
  {
   "cell_type": "code",
   "execution_count": null,
   "id": "34143d3e",
   "metadata": {},
   "outputs": [],
   "source": [
    "df.drop_duplicates(subset=['Review'])"
   ]
  },
  {
   "cell_type": "code",
   "execution_count": null,
   "id": "dea53c2a",
   "metadata": {},
   "outputs": [],
   "source": [
    "restaurants = df['Restaurant Name'].unique()\n",
    "dff_list = []\n",
    "for rest in restaurants:\n",
    "    dff = df[df['Restaurant Name'] == rest]\n",
    "    dff['Rating2'] = dff.Rating.expanding().mean().round(1)\n",
    "    dff['rating_seen'] = dff['Rating2'].shift(1)\n",
    "    dff = dff.reset_index(drop=True)\n",
    "    dff_list.append(dff)\n",
    "final_df = pd.concat(dff_list)"
   ]
  },
  {
   "cell_type": "code",
   "execution_count": null,
   "id": "6125e0ff",
   "metadata": {},
   "outputs": [],
   "source": [
    "final_df"
   ]
  },
  {
   "cell_type": "code",
   "execution_count": null,
   "id": "7ea6ec4d",
   "metadata": {},
   "outputs": [],
   "source": [
    "final_df.to_csv('bostonmerge.csv')"
   ]
  }
 ],
 "metadata": {
  "kernelspec": {
   "display_name": "Python 3 (ipykernel)",
   "language": "python",
   "name": "python3"
  },
  "language_info": {
   "codemirror_mode": {
    "name": "ipython",
    "version": 3
   },
   "file_extension": ".py",
   "mimetype": "text/x-python",
   "name": "python",
   "nbconvert_exporter": "python",
   "pygments_lexer": "ipython3",
   "version": "3.9.12"
  }
 },
 "nbformat": 4,
 "nbformat_minor": 5
}
