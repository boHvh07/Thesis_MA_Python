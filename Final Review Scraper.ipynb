{
 "cells": [
  {
   "cell_type": "code",
   "execution_count": null,
   "id": "ef96e96e",
   "metadata": {},
   "outputs": [],
   "source": [
    "import csv\n",
    "import time\n",
    "import requests\n",
    "import pandas as pd\n",
    "from time import sleep\n",
    "from bs4 import BeautifulSoup\n",
    "from nordvpn_switcher import initialize_VPN, rotate_VPN, terminate_VPN\n",
    "\n",
    "all_restaurants_url = pd.read_csv('newyork.csv', header=None)[0].values\n",
    "initialize_VPN(save=1,area_input=['complete rotation']) \n",
    "user_agent = {'User-agent': 'Mozilla/5.0'}\n",
    "\n",
    "reviewText = []\n",
    "reviewRating = []\n",
    "reviewDate = []\n",
    "reviewRestaurantName = []\n",
    "\n",
    "for base_url in all_restaurants_url[238:]:\n",
    "    counter = 0\n",
    "    url = base_url +'&sort_by=date_asc'\n",
    "\n",
    "    while counter < 20:\n",
    "        try:    \n",
    "            restaurantPage = requests.get(url)\n",
    "        except:\n",
    "            break\n",
    "\n",
    "        restaurantPageSoup = BeautifulSoup(\n",
    "            restaurantPage.text, \"html.parser\"\n",
    "        )\n",
    "        reviewsRawList = restaurantPageSoup.findAll(\n",
    "            \"li\",\n",
    "            class_=\"margin-b5__09f24__pTvws border-color--default__09f24__NPAKY\",\n",
    "        )\n",
    "\n",
    "        SoupRestaurantName = restaurantPageSoup.find('h1').getText()\n",
    "\n",
    "        for review in reviewsRawList:\n",
    "            try:\n",
    "                reviewText.append(review.find('span', class_=\"raw__09f24__T4Ezm\").getText())\n",
    "                reviewRating.append(int(review.find(\"div\", class_=\"five-stars__09f24__mBKym five-stars--regular__09f24__DgBNj display--inline-block__09f24__fEDiJ border-color--default__09f24__NPAKY\")['aria-label'][0]))\n",
    "                reviewDate.append(review.find(\"span\", {\"class\": \"css-chan6m\"}).getText())\n",
    "                reviewRestaurantName.append(SoupRestaurantName)\n",
    "            except:\n",
    "                pass\n",
    "\n",
    "        sleep(1)     \n",
    "\n",
    "        counter += 1\n",
    "        url = base_url + '&start=' + str(counter*10) + '&sort_by=date_asc' \n",
    "        \n",
    "        d = {'Review': reviewText, 'Rating': reviewRating, 'Date' : reviewDate, 'Restaurant Name': reviewRestaurantName}\n",
    "        df = pd.DataFrame(data=d)\n",
    "        df.to_csv('ny7.csv') #Give different name per city\n",
    "        \n",
    "    #execute this code when counter >= 20\n",
    "    rotate_VPN()\n",
    "    time.sleep(2)  \n",
    "    print(\"VPN has been switched\")\n"
   ]
  },
  {
   "cell_type": "code",
   "execution_count": null,
   "id": "13675cfd",
   "metadata": {},
   "outputs": [],
   "source": [
    "import numpy as np\n",
    "d = {'Review': reviewText, 'Rating': reviewRating, 'Date' : reviewDate, 'Restaurant Name': reviewRestaurantName}\n",
    "df = pd.DataFrame(data=d)\n",
    "df"
   ]
  }
 ],
 "metadata": {
  "kernelspec": {
   "display_name": "Python 3 (ipykernel)",
   "language": "python",
   "name": "python3"
  },
  "language_info": {
   "codemirror_mode": {
    "name": "ipython",
    "version": 3
   },
   "file_extension": ".py",
   "mimetype": "text/x-python",
   "name": "python",
   "nbconvert_exporter": "python",
   "pygments_lexer": "ipython3",
   "version": "3.9.12"
  }
 },
 "nbformat": 4,
 "nbformat_minor": 5
}
